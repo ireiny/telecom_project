{
 "cells": [
  {
   "cell_type": "markdown",
   "metadata": {},
   "source": [
    "## Examining data\n",
    "Import all necessary libraries and save data from files to variables."
   ]
  },
  {
   "cell_type": "code",
   "execution_count": 2,
   "metadata": {},
   "outputs": [
    {
     "data": {
      "text/html": [
       "<div>\n",
       "<style scoped>\n",
       "    .dataframe tbody tr th:only-of-type {\n",
       "        vertical-align: middle;\n",
       "    }\n",
       "\n",
       "    .dataframe tbody tr th {\n",
       "        vertical-align: top;\n",
       "    }\n",
       "\n",
       "    .dataframe thead th {\n",
       "        text-align: right;\n",
       "    }\n",
       "</style>\n",
       "<table border=\"1\" class=\"dataframe\">\n",
       "  <thead>\n",
       "    <tr style=\"text-align: right;\">\n",
       "      <th></th>\n",
       "      <th>id</th>\n",
       "      <th>call_date</th>\n",
       "      <th>duration</th>\n",
       "      <th>user_id</th>\n",
       "    </tr>\n",
       "  </thead>\n",
       "  <tbody>\n",
       "    <tr>\n",
       "      <th>0</th>\n",
       "      <td>1000_0</td>\n",
       "      <td>2018-07-25</td>\n",
       "      <td>0.00</td>\n",
       "      <td>1000</td>\n",
       "    </tr>\n",
       "    <tr>\n",
       "      <th>1</th>\n",
       "      <td>1000_1</td>\n",
       "      <td>2018-08-17</td>\n",
       "      <td>0.00</td>\n",
       "      <td>1000</td>\n",
       "    </tr>\n",
       "    <tr>\n",
       "      <th>2</th>\n",
       "      <td>1000_2</td>\n",
       "      <td>2018-06-11</td>\n",
       "      <td>2.85</td>\n",
       "      <td>1000</td>\n",
       "    </tr>\n",
       "    <tr>\n",
       "      <th>3</th>\n",
       "      <td>1000_3</td>\n",
       "      <td>2018-09-21</td>\n",
       "      <td>13.80</td>\n",
       "      <td>1000</td>\n",
       "    </tr>\n",
       "    <tr>\n",
       "      <th>4</th>\n",
       "      <td>1000_4</td>\n",
       "      <td>2018-12-15</td>\n",
       "      <td>5.18</td>\n",
       "      <td>1000</td>\n",
       "    </tr>\n",
       "    <tr>\n",
       "      <th>...</th>\n",
       "      <td>...</td>\n",
       "      <td>...</td>\n",
       "      <td>...</td>\n",
       "      <td>...</td>\n",
       "    </tr>\n",
       "    <tr>\n",
       "      <th>202602</th>\n",
       "      <td>1499_215</td>\n",
       "      <td>2018-12-26</td>\n",
       "      <td>0.76</td>\n",
       "      <td>1499</td>\n",
       "    </tr>\n",
       "    <tr>\n",
       "      <th>202603</th>\n",
       "      <td>1499_216</td>\n",
       "      <td>2018-10-18</td>\n",
       "      <td>18.83</td>\n",
       "      <td>1499</td>\n",
       "    </tr>\n",
       "    <tr>\n",
       "      <th>202604</th>\n",
       "      <td>1499_217</td>\n",
       "      <td>2018-11-10</td>\n",
       "      <td>10.81</td>\n",
       "      <td>1499</td>\n",
       "    </tr>\n",
       "    <tr>\n",
       "      <th>202605</th>\n",
       "      <td>1499_218</td>\n",
       "      <td>2018-10-06</td>\n",
       "      <td>4.27</td>\n",
       "      <td>1499</td>\n",
       "    </tr>\n",
       "    <tr>\n",
       "      <th>202606</th>\n",
       "      <td>1499_219</td>\n",
       "      <td>2018-12-14</td>\n",
       "      <td>19.62</td>\n",
       "      <td>1499</td>\n",
       "    </tr>\n",
       "  </tbody>\n",
       "</table>\n",
       "<p>202607 rows × 4 columns</p>\n",
       "</div>"
      ],
      "text/plain": [
       "              id   call_date  duration  user_id\n",
       "0         1000_0  2018-07-25      0.00     1000\n",
       "1         1000_1  2018-08-17      0.00     1000\n",
       "2         1000_2  2018-06-11      2.85     1000\n",
       "3         1000_3  2018-09-21     13.80     1000\n",
       "4         1000_4  2018-12-15      5.18     1000\n",
       "...          ...         ...       ...      ...\n",
       "202602  1499_215  2018-12-26      0.76     1499\n",
       "202603  1499_216  2018-10-18     18.83     1499\n",
       "202604  1499_217  2018-11-10     10.81     1499\n",
       "202605  1499_218  2018-10-06      4.27     1499\n",
       "202606  1499_219  2018-12-14     19.62     1499\n",
       "\n",
       "[202607 rows x 4 columns]"
      ]
     },
     "execution_count": 2,
     "metadata": {},
     "output_type": "execute_result"
    }
   ],
   "source": [
    "import pandas as pd\n",
    "import numpy as np\n",
    "import matplotlib.pyplot as plt\n",
    "from scipy import stats as st\n",
    "import warnings\n",
    "warnings.filterwarnings(\"ignore\", category=DeprecationWarning) \n",
    "\n",
    "try:\n",
    "    calls = pd.read_csv('calls.csv')  # Local path \n",
    "    internet = pd.read_csv('internet.csv')\n",
    "    messages = pd.read_csv('messages.csv')\n",
    "    tariffs = pd.read_csv('tariffs.csv')\n",
    "    users = pd.read_csv('users.csv')\n",
    "except:\n",
    "    calls = pd.read_csv('/datasets/calls.csv')  # Server path\n",
    "    internet = pd.read_csv('/datasets/internet.csv')\n",
    "    messages = pd.read_csv('/datasets/messages.csv')\n",
    "    tariffs = pd.read_csv('/datasets/tariffs.csv')\n",
    "    users = pd.read_csv('/datasets/users.csv')\n",
    "  \n",
    "\n",
    "\n",
    "calls.info()\n",
    "internet.info()\n",
    "messages.info()\n",
    "tariffs.info()\n",
    "users.info()"
   ]
  },
  {
   "cell_type": "markdown",
   "metadata": {},
   "source": [
    "Following data type issues were found in the \"calls\" table:\n",
    "- call_date object type, we will convert it into a date type, for the convenience of further use\n",
    "\n",
    "Following data type issues were found in the \"internet\" table:\n",
    "- the column Unnamed: 0 completely duplicates the indexes, we will most likely get rid of it\n",
    "- session_date object type, convert to date type, for ease of further use\n",
    "\n",
    "Following data type issues were found in the \"messages\" table:\n",
    "- message_date object type, we will convert it into date type, for the convenience of further use\n",
    "\n",
    "No data type issues found in \"tariffs\" table\n",
    "\n",
    "Following data type issues were found in the \"users\" table:\n",
    "- churn_date type object and reg_date type object, we will convert into date type, for convenience of further use\n",
    "- churn_date filled in only 38 values, but this indicator in this study does not bother us, so let's leave it as it is\n",
    "\n",
    "In the \"calls\", \"internet\" tables, there are a small number of 0 values in the duration, mb_used columns, respectively. Calls with zero duration are missed calls, so we won't delete them. As for the zero values for mb_used, this data will not affect the study, since we will use the total value of the internet spending per month, so we can just leave them.\n",
    "\n",
    "Also check the main tables for duplicates:"
   ]
  },
  {
   "cell_type": "code",
   "execution_count": null,
   "metadata": {},
   "outputs": [],
   "source": [
    "print(calls.duplicated().sum(), internet.duplicated().sum(), messages.duplicated().sum(), users.duplicated().sum())"
   ]
  },
  {
   "cell_type": "markdown",
   "metadata": {},
   "source": [
    "There is no duplicates in tables.\n",
    "\n",
    "## Data preprocessing"
   ]
  },
  {
   "cell_type": "code",
   "execution_count": null,
   "metadata": {},
   "outputs": [],
   "source": [
    "#Convert all formats as described above\n",
    "calls['call_date'] = pd.to_datetime(calls['call_date'], format='%Y-%m-%d')\n",
    "internet['session_date'] = pd.to_datetime(internet['session_date'], format='%Y-%m-%d')\n",
    "messages['message_date'] = pd.to_datetime(messages['message_date'], format='%Y-%m-%d')\n",
    "users['churn_date'] = pd.to_datetime(users['churn_date'], format='%Y-%m-%d')\n",
    "users['reg_date'] = pd.to_datetime(users['churn_date'], format='%Y-%m-%d')"
   ]
  },
  {
   "cell_type": "markdown",
   "metadata": {},
   "source": [
    "To test hypotheses, some indicators need to be calculated. Let's calculate for each user:\n",
    "- number of calls made and minutes of conversation spent per month;\n",
    "- number of messages sent per month;\n",
    "- amount of Internet traffic used per months;\n",
    "- monthly revenue per each user\n",
    "\n",
    "Let's define a month from data for message sent, Internet traffic spent and calls made, for this we create a month column in each table."
   ]
  },
  {
   "cell_type": "code",
   "execution_count": null,
   "metadata": {},
   "outputs": [],
   "source": [
    "calls['month'] = calls['call_date'].dt.to_period('M')\n",
    "internet['month'] = internet['session_date'].dt.to_period('M')\n",
    "messages['month'] = messages['message_date'].dt.to_period('M')"
   ]
  },
  {
   "cell_type": "markdown",
   "metadata": {},
   "source": [
    "Now let's create pivot tables in which we calculate the total number of minutes, messages and gigabytes spent for each user in each month."
   ]
  },
  {
   "cell_type": "code",
   "execution_count": null,
   "metadata": {},
   "outputs": [],
   "source": [
    "calls_pivot = calls.pivot_table(index=['user_id', 'month'], values='duration', aggfunc='sum')\n",
    "calls_pivot = calls_pivot.reset_index(drop=False)\n",
    "calls_pivot.columns = ['user_id', 'month', 'calls_duration']\n",
    "\n",
    "internet_pivot = internet.pivot_table(index=['user_id', 'month'], values='mb_used', aggfunc='sum')\n",
    "internet_pivot = internet_pivot.reset_index(drop=False)\n",
    "internet_pivot.columns = ['user_id', 'month', 'mb_used_month']\n",
    "\n",
    "messages_pivot = messages.pivot_table(index=['user_id', 'month'], values='id', aggfunc='count')\n",
    "messages_pivot = messages_pivot.reset_index(drop=False)\n",
    "messages_pivot.columns = ['user_id', 'month', 'message_count']"
   ]
  },
  {
   "cell_type": "markdown",
   "metadata": {},
   "source": [
    "Next, we will create a common pivot table by combining the data from these tables, additionally adding columns with the name of the tariff and the user's city to it and see what happens."
   ]
  },
  {
   "cell_type": "code",
   "execution_count": null,
   "metadata": {},
   "outputs": [],
   "source": [
    "mobile_data = calls_pivot.merge(internet_pivot, on = ['user_id', 'month'], how='outer')\n",
    "mobile_data = mobile_data.merge(messages_pivot, on = ['user_id', 'month'], how='outer')\n",
    "\n",
    "tarif = users.loc[:, ['user_id', 'tariff']]\n",
    "city = users.loc[:, ['user_id', 'city']]"
   ]
  },
  {
   "cell_type": "code",
   "execution_count": null,
   "metadata": {},
   "outputs": [],
   "source": [
    "mobile_data = mobile_data.merge(tarif, on = 'user_id', how='outer')\n",
    "mobile_data = mobile_data.merge(city, on = 'user_id', how='outer')\n",
    "display(mobile_data.head())"
   ]
  },
  {
   "cell_type": "code",
   "execution_count": null,
   "metadata": {},
   "outputs": [],
   "source": [
    "mobile_data.shape"
   ]
  },
  {
   "cell_type": "code",
   "execution_count": null,
   "metadata": {},
   "outputs": [],
   "source": [
    "mobile_data.user_id.nunique()"
   ]
  },
  {
   "cell_type": "markdown",
   "metadata": {},
   "source": [
    "Next, we will calculate the revenue for each row of the mobile_data pivot table, for this we subtract the free limit from the total number of calls, messages and Internet traffic; multiply the remainder by the value from the tariff plan and add the subscription fee, in accordance with the tariff plan. We also take into account that Internet traffic excesses are paid per gigabyte, so we will translate the result of the excess from megabytes into gigabytes and only then multiply by the tariff."
   ]
  },
  {
   "cell_type": "code",
   "execution_count": null,
   "metadata": {},
   "outputs": [],
   "source": [
    "display(tariffs)"
   ]
  },
  {
   "cell_type": "code",
   "execution_count": null,
   "metadata": {},
   "outputs": [],
   "source": [
    "def revenue_count(row):\n",
    "    user = row['user_id']\n",
    "    calls_duration = row['calls_duration']\n",
    "    mb_used_month = row['mb_used_month']\n",
    "    message_count = row['message_count']\n",
    "    tariff = row['tariff']\n",
    "    revenue = 0\n",
    "\n",
    "    if tariff == 'smart':\n",
    "        messages_included = 50   \n",
    "        mb_per_month_included = 15360\n",
    "        minutes_included = 500\n",
    "        revenue = 550\n",
    "        rub_per_gb = 200\n",
    "        rub_per_message = 3\n",
    "        rub_per_minute = 3\n",
    "    \n",
    "    if tariff == 'ultra':\n",
    "        messages_included = 1000\n",
    "        mb_per_month_included = 30720\n",
    "        minutes_included = 3000\n",
    "        revenue = 1950\n",
    "        rub_per_gb = 150\n",
    "        rub_per_message = 1\n",
    "        rub_per_minute = 1    \n",
    "    if calls_duration > minutes_included:\n",
    "        revenue = revenue + ((calls_duration - minutes_included)*rub_per_minute)\n",
    "    if mb_used_month > mb_per_month_included:\n",
    "        revenue = revenue + ((np.ceil((mb_used_month - mb_per_month_included)/1024))*rub_per_gb)\n",
    "    if message_count > messages_included:\n",
    "        revenue = revenue + ((message_count - messages_included)*rub_per_message)\n",
    "    return(revenue)\n",
    "\n",
    "mobile_data['revenue'] = mobile_data.apply(revenue_count, axis=1)\n",
    "mobile_data.head(10)"
   ]
  },
  {
   "cell_type": "code",
   "execution_count": null,
   "metadata": {},
   "outputs": [],
   "source": [
    "mobile_data['revenue'].describe()"
   ]
  },
  {
   "cell_type": "markdown",
   "metadata": {},
   "source": [
    "## Data Analysis \n",
    "\n",
    "Let's divide the pivot table into two based on the tariff in order to analyze the behavior of users of different tariffs relative to each other. We will also calculate the average number, variance and standard deviation of the number of minutes of conversation, the number of messages and the volume of Internet traffic required by users of each tariff per month"
   ]
  },
  {
   "cell_type": "code",
   "execution_count": null,
   "metadata": {},
   "outputs": [],
   "source": [
    "good_data_smart = mobile_data.query('tariff == \"smart\"')\n",
    "good_data_ultra = mobile_data.query('tariff == \"ultra\"')"
   ]
  },
  {
   "cell_type": "code",
   "execution_count": null,
   "metadata": {},
   "outputs": [],
   "source": [
    "#таблица.pivot_table(index= тариф  values=  выручка, aggfunc= ['mean', 'var','std'])\n",
    "mobile_data_pivot = mobile_data.pivot_table(index='tariff', values='revenue', aggfunc=['mean', 'var','std', 'count'])\n",
    "display(mobile_data_pivot)\n",
    "mobile_data_pivot = mobile_data.pivot_table(index='tariff', values='message_count', aggfunc=['mean', 'var','std'])\n",
    "display(mobile_data_pivot)\n",
    "mobile_data_pivot = mobile_data.pivot_table(index='tariff', values='mb_used_month', aggfunc=['mean', 'var','std'])\n",
    "display(mobile_data_pivot)\n",
    "mobile_data_pivot = mobile_data.pivot_table(index='tariff', values='calls_duration', aggfunc=['mean', 'var','std'])\n",
    "display(mobile_data_pivot)"
   ]
  },
  {
   "cell_type": "markdown",
   "metadata": {},
   "source": [
    "According to the calculations above, I would like to note the following:\n",
    "- the average revenue for the ultra tariff greatly exceeds the revenue for the smart tariff, but at the same time, the standard deviation and variance for the smart tariff are higher, which indicates a high variability of the random variable relative to its mathematical expectation.\n",
    "- there is more data on the smart tariff than on the ultra tariff, which is logical, since the ultra tariff is more expensive and, accordingly, less popular.\n",
    "- users of the ultra tariff on average write SMS more often than users of the smart tariff\n",
    "- users of the ultra tariff on average use mobile Internet more than users of the smart tariff\n",
    "- users of the ultra tariff on average spend more time talking on the phone than users of the smart tariff\n",
    "\n",
    "Now let's build histograms of the distribution of these data in order to visually assess the nature of the behavior of users of different tariffs."
   ]
  },
  {
   "cell_type": "code",
   "execution_count": null,
   "metadata": {},
   "outputs": [],
   "source": [
    "ax = good_data_smart.plot(kind='hist', y='calls_duration', bins=50, alpha=0.7, label='calls duration smart', grid=True, legend=True, figsize=(12, 7))\n",
    "good_data_ultra.plot(kind='hist', y='calls_duration', bins=50, alpha=0.7, label='calls duration ultra', ax=ax, grid=True, legend=True, figsize=(12, 7))\n",
    "plt.title('Total calls duration per month')\n",
    "plt.show()"
   ]
  },
  {
   "cell_type": "markdown",
   "metadata": {},
   "source": [
    "The histogram shows that the peak of the distribution of talk time at the smart tariff is observed in the region of 500 minutes, and after this mark it drops sharply down, perhaps since the free number of minutes is only 500, those who often talk keep track of the rest of the minutes so as not to switch to paid part, or even if the limit is exhausted, then do not spend too much on exceeding, because the cost of a minute over the limit is high. According to the ultra tariff graph, this is not observed, since the limit of 3000 minutes allows you to relax and not keep track of how many minutes have already been spent, so the graph has no obvious peaks. And, as we see from the data presented, this limit has not been exceeded by anyone from the sample, that is, the probability of this is low."
   ]
  },
  {
   "cell_type": "code",
   "execution_count": null,
   "metadata": {},
   "outputs": [],
   "source": [
    "ax = good_data_smart.plot(kind='hist', y='mb_used_month', bins=100, alpha=0.7, label='mb used smart', grid=True, legend=True, figsize=(12, 7))\n",
    "good_data_ultra.plot(kind='hist', y='mb_used_month', bins=100, alpha=0.7, label='mb used ultra', ax=ax, grid=True, legend=True, figsize=(12, 7))\n",
    "plt.title('Total internet usage per month')\n",
    "plt.show()"
   ]
  },
  {
   "cell_type": "markdown",
   "metadata": {},
   "source": [
    "According to the Internet consumption graph at the smart tariff, there is also a clear peak in the area of the traffic limit, and this can also be described by the desire of users not to go beyond the limit included in the tariff, after 15000 there is no longer such a sharp decrease in the histogram, it looks more like a normal distribution curve, to me this seems to be due to the fact that now access to the Internet is an important part of life and users use Internet when necessary and are probably more willing to overpay for it than for calls.\n",
    "\n",
    "There are no clear peaks in the ultra tariff, since 30 gigabytes is a rather large amount of traffic and you need to try hard to use it up, there is still a small step on the threshold of the schedule limit, that is, a small percentage of people approaching the mark may begin to save traffic in order to do not overpay, but at the same time, the step is not very pronounced and we can say that users who spend more Internet than are provided within the framework of the tariff are an absolute minority and the bulk of users fit into the free limit."
   ]
  },
  {
   "cell_type": "code",
   "execution_count": null,
   "metadata": {},
   "outputs": [],
   "source": [
    "ax = good_data_smart.plot(kind='hist', y='message_count', bins=50, alpha=0.7, label='messages smart', grid=True, legend=True, figsize=(12, 7))\n",
    "good_data_ultra.plot(kind='hist', y='message_count', bins=50, alpha=0.7, label='messages ultra', ax=ax, grid=True, legend=True, figsize=(12, 7))\n",
    "plt.title('Message amount per month')\n",
    "plt.show()"
   ]
  },
  {
   "cell_type": "markdown",
   "metadata": {},
   "source": [
    "\"Smart\" tariff shows more monotonous picture up to the free limit with a small peak, then there is a sharp decline, I think this is due to the high cost of 1 SMS after spending the limit. In the ultra tariff, the graph has no pronounced peaks, due to the fact that the limit is 1000 sms and this is a rather large value, and the graph shows that no one from the sample even came close to using the limit. SMS is not the most popular means of communication today, and a fairly large percentage of users do not use it at all, which is generally logical in the era of mobile Internet and instant messengers."
   ]
  },
  {
   "cell_type": "code",
   "execution_count": null,
   "metadata": {},
   "outputs": [],
   "source": [
    "ax = good_data_smart.plot(kind='hist', y='revenue', bins=70, alpha=0.7, label='revenue smart', grid=True, legend=True, figsize=(12, 7))\n",
    "good_data_ultra.plot(kind='hist', y='revenue', bins=70, alpha=0.7, label='revenue ultra', ax=ax, grid=True, legend=True, figsize=(12, 7))\n",
    "plt.title('Revenue per month')\n",
    "plt.show()"
   ]
  },
  {
   "cell_type": "markdown",
   "metadata": {},
   "source": [
    "According to the histograms, it can be seen that the vast majority of users of the ultra tariff fit into the tariff limits and pay only the cost of the tariff. In the smart tariff, it is more difficult to meet the limits, since they are not so high, so you can see a long and thick tail of payments with tariff excesses. Let's check the proportion of those who fit into the smart and ultra tariff and those who do not fit:"
   ]
  },
  {
   "cell_type": "code",
   "execution_count": null,
   "metadata": {},
   "outputs": [],
   "source": [
    "print('Do not fit to tariff smart', (len(good_data_smart.loc[good_data_smart['revenue'] > 550]))/ (len(good_data_smart)))\n",
    "print('Do not fit to tariff ultra', (len(good_data_ultra.loc[good_data_ultra['revenue'] > 1950]))/ (len(good_data_ultra)))"
   ]
  },
  {
   "cell_type": "markdown",
   "metadata": {},
   "source": [
    "In 73% of cases, users do not fit into the smart tariff and only in 13% into the ultra tariff"
   ]
  },
  {
   "cell_type": "markdown",
   "metadata": {},
   "source": [
    "## Testing hypotheses\n",
    "\n",
    "Let us formulate a null hypothesis for verification - the average revenue of users of the Ultra and Smart tariffs are equal, which means that the alternative hypothesis will be - the average revenue of users of the Ultra and Smart tariffs are different. This alternative hypothesis is two-sided, since we are interested in the deviation in both directions. Since our samples are of different sizes and the variances of the populations are different, as we already calculated above, we will specify the equal_var parameter as False, we will concider the alpha value of 5%."
   ]
  },
  {
   "cell_type": "code",
   "execution_count": null,
   "metadata": {},
   "outputs": [],
   "source": [
    "def analysis(array_1, array_2):\n",
    "    alpha = 0.05\n",
    "    results = st.stats.ttest_ind(array_1, array_2, equal_var = False)\n",
    "    print('p-value: ', results.pvalue)\n",
    "    if results.pvalue < alpha: \n",
    "        print (\"Deny zero hypothesis\")\n",
    "    else:\n",
    "        print (\"Cannot deny zero hypothesis\")"
   ]
  },
  {
   "cell_type": "code",
   "execution_count": null,
   "metadata": {},
   "outputs": [],
   "source": [
    "# Null hypothesis: the average revenue for smart and ultra tariffs are equal.\n",
    "# Alternative hypothesis: the average revenue for smart and ultra tariffs differ\n",
    "\n",
    "display(mobile_data_pivot)\n",
    "\n",
    "# The variance of the two samples differ by more than 4 times, quite a big difference, as well as the size\n",
    "# samples are very different, so we set the equal_var parameter to False\n",
    "\n",
    "analysis(good_data_smart['revenue'], good_data_ultra['revenue'])"
   ]
  },
  {
   "cell_type": "markdown",
   "metadata": {},
   "source": [
    "With the help of the test, the null hypothesis was rejected, and the alternative one was confirmed, namely, that the average revenue for smart and ultra tariffs differ. This was presumably clear, and by calculating the average value of the sample, they have too much difference, now we know this for sure.\n",
    "\n",
    "\n",
    "Now let's test another hypothesis that the average revenue for MSC users differs from the revenue for users from regions. This will be our null hypothesis, the alternative one says: the average revenue for MSC users is equal to the revenue for users from regions.\n",
    "\n",
    "In order to test this hypothesis, it is necessary to prepare datasets for testing, that is, filter the data by users from Moscow and the regions. Let's place them in different variables. Next, we compare the variances and sizes of the resulting samples, as well as their average values."
   ]
  },
  {
   "cell_type": "code",
   "execution_count": null,
   "metadata": {},
   "outputs": [],
   "source": [
    "array_moscow = mobile_data.query('city == \"Москва\"')\n",
    "array_region = mobile_data.query('city != \"Москва\"')\n",
    "\n",
    "print(array_region['revenue'].mean(), array_moscow['revenue'].mean())\n",
    "print(np.var(array_region['revenue']), np.var(array_moscow['revenue']))\n",
    "print(len(array_region['revenue']), len(array_moscow['revenue']))\n"
   ]
  },
  {
   "cell_type": "markdown",
   "metadata": {},
   "source": [
    "As in the first case, despite the fact that the variance differs little, our samples are of different sizes, therefore, just as in the first case, we will specify the equal_var parameter as False, and we will equate the threshold value alpha to 5%"
   ]
  },
  {
   "cell_type": "code",
   "execution_count": null,
   "metadata": {},
   "outputs": [],
   "source": [
    "# Null hypothesis: the average revenue in Moscow and regions are equal\n",
    "# Alternative hypothesis: the average revenue in Moscow and regions differ\n",
    "\n",
    "analysis(array_moscow['revenue'], array_region['revenue'])"
   ]
  },
  {
   "cell_type": "markdown",
   "metadata": {},
   "source": [
    "As can be seen from the average value and the test results, the null hypothesis is correct, namely, that the average revenue in Moscow and the regions does not differ."
   ]
  },
  {
   "cell_type": "markdown",
   "metadata": {},
   "source": [
    "\n",
    "## General conclusion:\n",
    "\n",
    "- As can be seen from the histograms, the vast majority of Ultra tariff users fit into the tariff limits, and only 12% pay extra for excesses, in the Smart tariff, on the contrary, in 75% of cases users pay extra for exceeding the limit.\n",
    "\n",
    "- The average revenue for the ultra tariff greatly exceeds the revenue for the smart tariff, but at the same time, the standard deviation and variance for the smart tariff are higher, which indicates a high variability of the random variable.\n",
    "\n",
    "- There is more data on the smart tariff than on the ultra tariff, which is logical, since the ultra tariff is more expensive and therefore less popular.\n",
    "\n",
    "- Users of the Ultra tariff, on average, write SMS more often, use the mobile Internet more and talk on the phone more than users of the Smart tariff, this is logical, since Ultra tariff limits allow you to do this simply.\n",
    "\n",
    "- As a result of this study, we confirmed the hypothesis that the average revenue for Smart and Ultra tariffs differ, and also refuted the hypothesis that the average revenue in Moscow and regions differ, as it turned out, there is practically no difference.\n",
    "\n",
    "- I think that it makes sense to focus on advertising Ultra tariff, offering high Internet limits and the ability to talk almost without restrictions, without being afraid to exceed the limits.\n"
   ]
  },
  {
   "cell_type": "code",
   "execution_count": null,
   "metadata": {},
   "outputs": [],
   "source": []
  }
 ],
 "metadata": {
  "ExecuteTimeLog": [
   {
    "duration": 1609,
    "start_time": "2022-03-15T10:37:18.096Z"
   },
   {
    "duration": 398,
    "start_time": "2022-03-15T10:37:33.182Z"
   },
   {
    "duration": 207,
    "start_time": "2022-03-15T10:38:08.570Z"
   },
   {
    "duration": 211,
    "start_time": "2022-03-15T10:38:27.680Z"
   },
   {
    "duration": 803,
    "start_time": "2022-03-15T10:41:05.830Z"
   },
   {
    "duration": 726,
    "start_time": "2022-03-15T10:43:21.145Z"
   },
   {
    "duration": 729,
    "start_time": "2022-03-15T10:45:26.456Z"
   },
   {
    "duration": 758,
    "start_time": "2022-03-15T10:48:26.630Z"
   },
   {
    "duration": 695,
    "start_time": "2022-03-15T10:48:47.059Z"
   },
   {
    "duration": 948,
    "start_time": "2022-03-15T10:50:32.592Z"
   },
   {
    "duration": 733,
    "start_time": "2022-03-15T10:51:11.446Z"
   },
   {
    "duration": 823,
    "start_time": "2022-03-15T11:04:05.964Z"
   },
   {
    "duration": 7,
    "start_time": "2022-03-15T11:25:05.743Z"
   },
   {
    "duration": 9,
    "start_time": "2022-03-15T11:26:29.191Z"
   },
   {
    "duration": 10,
    "start_time": "2022-03-15T11:26:45.789Z"
   },
   {
    "duration": 9,
    "start_time": "2022-03-15T11:26:58.755Z"
   },
   {
    "duration": 7,
    "start_time": "2022-03-15T11:28:13.444Z"
   },
   {
    "duration": 6,
    "start_time": "2022-03-15T11:28:25.644Z"
   },
   {
    "duration": 7,
    "start_time": "2022-03-15T11:28:45.527Z"
   },
   {
    "duration": 286,
    "start_time": "2022-03-15T11:29:46.628Z"
   },
   {
    "duration": 10,
    "start_time": "2022-03-15T11:29:55.990Z"
   },
   {
    "duration": 6,
    "start_time": "2022-03-15T11:31:21.071Z"
   },
   {
    "duration": 16,
    "start_time": "2022-03-15T11:32:51.691Z"
   },
   {
    "duration": 28,
    "start_time": "2022-03-15T11:33:03.983Z"
   },
   {
    "duration": 6,
    "start_time": "2022-03-15T11:33:59.218Z"
   },
   {
    "duration": 8,
    "start_time": "2022-03-15T11:34:26.172Z"
   },
   {
    "duration": 12,
    "start_time": "2022-03-15T11:36:19.306Z"
   },
   {
    "duration": 8,
    "start_time": "2022-03-15T11:36:45.016Z"
   },
   {
    "duration": 10,
    "start_time": "2022-03-15T11:37:12.642Z"
   },
   {
    "duration": 12,
    "start_time": "2022-03-15T11:37:16.091Z"
   },
   {
    "duration": 721,
    "start_time": "2022-03-15T11:37:57.934Z"
   },
   {
    "duration": 767,
    "start_time": "2022-03-15T11:38:12.042Z"
   },
   {
    "duration": 23,
    "start_time": "2022-03-15T11:38:58.886Z"
   },
   {
    "duration": 49,
    "start_time": "2022-03-15T11:39:32.145Z"
   },
   {
    "duration": 1883,
    "start_time": "2022-03-15T11:40:11.009Z"
   },
   {
    "duration": 20,
    "start_time": "2022-03-15T11:40:38.219Z"
   },
   {
    "duration": 70,
    "start_time": "2022-03-15T11:42:19.219Z"
   },
   {
    "duration": 720,
    "start_time": "2022-03-15T11:42:34.529Z"
   },
   {
    "duration": 93,
    "start_time": "2022-03-15T11:43:14.105Z"
   },
   {
    "duration": 25,
    "start_time": "2022-03-15T11:44:40.462Z"
   },
   {
    "duration": 817,
    "start_time": "2022-03-15T11:51:09.566Z"
   },
   {
    "duration": 35,
    "start_time": "2022-03-15T11:51:22.169Z"
   },
   {
    "duration": 708,
    "start_time": "2022-03-15T11:51:29.495Z"
   },
   {
    "duration": 304,
    "start_time": "2022-03-15T12:22:21.765Z"
   },
   {
    "duration": 28,
    "start_time": "2022-03-15T12:24:37.045Z"
   },
   {
    "duration": 94,
    "start_time": "2022-03-15T12:24:46.357Z"
   },
   {
    "duration": 20,
    "start_time": "2022-03-15T12:24:48.821Z"
   },
   {
    "duration": 70,
    "start_time": "2022-03-15T12:24:51.434Z"
   },
   {
    "duration": 13,
    "start_time": "2022-03-15T12:28:35.531Z"
   },
   {
    "duration": 13,
    "start_time": "2022-03-15T12:28:43.608Z"
   },
   {
    "duration": 12,
    "start_time": "2022-03-15T12:28:52.063Z"
   },
   {
    "duration": 1161,
    "start_time": "2022-03-15T12:35:27.705Z"
   },
   {
    "duration": 311,
    "start_time": "2022-03-15T12:41:24.959Z"
   },
   {
    "duration": 288,
    "start_time": "2022-03-15T12:41:42.459Z"
   },
   {
    "duration": 28,
    "start_time": "2022-03-15T12:41:52.503Z"
   },
   {
    "duration": 155,
    "start_time": "2022-03-15T12:41:55.966Z"
   },
   {
    "duration": 25,
    "start_time": "2022-03-15T12:41:58.672Z"
   },
   {
    "duration": 72,
    "start_time": "2022-03-15T12:42:01.593Z"
   },
   {
    "duration": 75,
    "start_time": "2022-03-15T12:42:08.995Z"
   },
   {
    "duration": 1184,
    "start_time": "2022-03-15T12:43:18.748Z"
   },
   {
    "duration": 1130,
    "start_time": "2022-03-15T12:48:46.939Z"
   },
   {
    "duration": 314,
    "start_time": "2022-03-15T12:57:59.099Z"
   },
   {
    "duration": 40,
    "start_time": "2022-03-15T12:58:25.286Z"
   },
   {
    "duration": 49,
    "start_time": "2022-03-15T12:58:31.600Z"
   },
   {
    "duration": 304,
    "start_time": "2022-03-15T13:01:09.921Z"
   },
   {
    "duration": 749,
    "start_time": "2022-03-15T13:01:24.141Z"
   },
   {
    "duration": 94,
    "start_time": "2022-03-15T13:01:31.050Z"
   },
   {
    "duration": 71,
    "start_time": "2022-03-15T13:01:34.401Z"
   },
   {
    "duration": 50,
    "start_time": "2022-03-15T13:01:37.462Z"
   },
   {
    "duration": 1548,
    "start_time": "2022-03-15T13:08:46.072Z"
   },
   {
    "duration": 38,
    "start_time": "2022-03-15T13:08:47.624Z"
   },
   {
    "duration": 115,
    "start_time": "2022-03-15T13:08:47.666Z"
   },
   {
    "duration": 19,
    "start_time": "2022-03-15T13:08:47.783Z"
   },
   {
    "duration": 86,
    "start_time": "2022-03-15T13:08:47.805Z"
   },
   {
    "duration": 65,
    "start_time": "2022-03-15T13:08:47.894Z"
   },
   {
    "duration": 49,
    "start_time": "2022-03-15T13:34:43.197Z"
   },
   {
    "duration": 7,
    "start_time": "2022-03-15T13:35:04.345Z"
   },
   {
    "duration": 50,
    "start_time": "2022-03-15T13:36:34.338Z"
   },
   {
    "duration": 6,
    "start_time": "2022-03-15T13:36:42.366Z"
   },
   {
    "duration": 25,
    "start_time": "2022-03-15T13:37:52.186Z"
   },
   {
    "duration": 17,
    "start_time": "2022-03-15T13:41:26.398Z"
   },
   {
    "duration": 410,
    "start_time": "2022-03-15T13:42:46.176Z"
   },
   {
    "duration": 307,
    "start_time": "2022-03-15T13:45:44.041Z"
   },
   {
    "duration": 39,
    "start_time": "2022-03-15T13:46:00.143Z"
   },
   {
    "duration": 49,
    "start_time": "2022-03-15T13:46:06.886Z"
   },
   {
    "duration": 363,
    "start_time": "2022-03-15T13:46:45.341Z"
   },
   {
    "duration": 295,
    "start_time": "2022-03-15T13:54:55.226Z"
   },
   {
    "duration": 113,
    "start_time": "2022-03-15T13:55:09.237Z"
   },
   {
    "duration": 378,
    "start_time": "2022-03-15T13:55:25.173Z"
   },
   {
    "duration": 106,
    "start_time": "2022-03-15T13:55:37.181Z"
   },
   {
    "duration": 105,
    "start_time": "2022-03-15T13:55:57.416Z"
   },
   {
    "duration": 1543,
    "start_time": "2022-03-15T13:56:27.265Z"
   },
   {
    "duration": 37,
    "start_time": "2022-03-15T13:56:28.811Z"
   },
   {
    "duration": 114,
    "start_time": "2022-03-15T13:56:28.851Z"
   },
   {
    "duration": 15,
    "start_time": "2022-03-15T13:56:28.967Z"
   },
   {
    "duration": 91,
    "start_time": "2022-03-15T13:56:28.984Z"
   },
   {
    "duration": 151,
    "start_time": "2022-03-15T13:56:29.077Z"
   },
   {
    "duration": 7,
    "start_time": "2022-03-15T13:56:29.230Z"
   },
   {
    "duration": 109,
    "start_time": "2022-03-15T13:56:46.935Z"
   },
   {
    "duration": 16,
    "start_time": "2022-03-15T13:58:16.526Z"
   },
   {
    "duration": 12,
    "start_time": "2022-03-15T13:58:34.013Z"
   },
   {
    "duration": 116,
    "start_time": "2022-03-15T14:09:40.374Z"
   },
   {
    "duration": 124,
    "start_time": "2022-03-15T14:13:27.981Z"
   },
   {
    "duration": 110,
    "start_time": "2022-03-15T14:15:23.617Z"
   },
   {
    "duration": 10,
    "start_time": "2022-03-15T14:26:13.322Z"
   },
   {
    "duration": 27,
    "start_time": "2022-03-15T14:26:22.062Z"
   },
   {
    "duration": 144,
    "start_time": "2022-03-15T14:27:09.641Z"
   },
   {
    "duration": 22,
    "start_time": "2022-03-15T14:27:12.104Z"
   },
   {
    "duration": 117,
    "start_time": "2022-03-15T14:27:51.825Z"
   },
   {
    "duration": 30,
    "start_time": "2022-03-15T14:27:56.935Z"
   },
   {
    "duration": 108,
    "start_time": "2022-03-15T14:28:24.279Z"
   },
   {
    "duration": 46,
    "start_time": "2022-03-15T14:28:27.682Z"
   },
   {
    "duration": 196,
    "start_time": "2022-03-15T15:13:23.250Z"
   },
   {
    "duration": 30,
    "start_time": "2022-03-15T15:14:36.545Z"
   },
   {
    "duration": 19,
    "start_time": "2022-03-15T15:33:40.655Z"
   },
   {
    "duration": 10,
    "start_time": "2022-03-15T15:35:55.454Z"
   },
   {
    "duration": 16,
    "start_time": "2022-03-15T15:36:05.934Z"
   },
   {
    "duration": 21,
    "start_time": "2022-03-15T15:36:29.637Z"
   },
   {
    "duration": 31,
    "start_time": "2022-03-15T15:41:15.457Z"
   },
   {
    "duration": 14,
    "start_time": "2022-03-15T15:45:09.625Z"
   },
   {
    "duration": 8,
    "start_time": "2022-03-15T15:45:33.259Z"
   },
   {
    "duration": 12,
    "start_time": "2022-03-15T15:45:48.330Z"
   },
   {
    "duration": 17,
    "start_time": "2022-03-15T15:45:55.731Z"
   },
   {
    "duration": 13,
    "start_time": "2022-03-15T15:46:34.739Z"
   },
   {
    "duration": 13,
    "start_time": "2022-03-15T15:47:19.364Z"
   },
   {
    "duration": 19,
    "start_time": "2022-03-15T15:47:59.805Z"
   },
   {
    "duration": 14,
    "start_time": "2022-03-15T15:48:07.767Z"
   },
   {
    "duration": 16,
    "start_time": "2022-03-15T15:48:24.130Z"
   },
   {
    "duration": 763,
    "start_time": "2022-03-15T15:55:26.315Z"
   },
   {
    "duration": 382,
    "start_time": "2022-03-15T15:57:35.491Z"
   },
   {
    "duration": 42,
    "start_time": "2022-03-15T15:57:54.926Z"
   },
   {
    "duration": 885,
    "start_time": "2022-03-15T15:58:11.606Z"
   },
   {
    "duration": 23,
    "start_time": "2022-03-15T15:58:20.204Z"
   },
   {
    "duration": 20,
    "start_time": "2022-03-15T15:58:42.905Z"
   },
   {
    "duration": 8,
    "start_time": "2022-03-15T15:58:54.787Z"
   },
   {
    "duration": 19,
    "start_time": "2022-03-15T15:59:21.667Z"
   },
   {
    "duration": 395,
    "start_time": "2022-03-15T16:00:06.807Z"
   },
   {
    "duration": 28,
    "start_time": "2022-03-15T16:00:14.866Z"
   },
   {
    "duration": 136,
    "start_time": "2022-03-15T16:00:45.420Z"
   },
   {
    "duration": 98,
    "start_time": "2022-03-15T16:01:29.339Z"
   },
   {
    "duration": 26,
    "start_time": "2022-03-15T16:01:33.819Z"
   },
   {
    "duration": 5022,
    "start_time": "2022-03-15T16:32:10.024Z"
   },
   {
    "duration": 32,
    "start_time": "2022-03-15T16:32:29.894Z"
   },
   {
    "duration": 320,
    "start_time": "2022-03-15T16:39:21.422Z"
   },
   {
    "duration": 2076,
    "start_time": "2022-03-15T16:39:28.318Z"
   },
   {
    "duration": 29,
    "start_time": "2022-03-15T16:39:30.397Z"
   },
   {
    "duration": 40,
    "start_time": "2022-03-15T16:39:30.430Z"
   },
   {
    "duration": 114,
    "start_time": "2022-03-15T16:39:30.474Z"
   },
   {
    "duration": 79,
    "start_time": "2022-03-15T16:39:30.591Z"
   },
   {
    "duration": 124,
    "start_time": "2022-03-15T16:39:30.672Z"
   },
   {
    "duration": 45,
    "start_time": "2022-03-15T16:39:30.798Z"
   },
   {
    "duration": 7145,
    "start_time": "2022-03-15T16:39:30.846Z"
   },
   {
    "duration": 13,
    "start_time": "2022-03-15T16:39:37.994Z"
   },
   {
    "duration": 44,
    "start_time": "2022-03-15T16:39:38.009Z"
   },
   {
    "duration": 474,
    "start_time": "2022-03-15T16:39:38.056Z"
   },
   {
    "duration": 24073,
    "start_time": "2022-03-15T16:43:55.001Z"
   },
   {
    "duration": 10,
    "start_time": "2022-03-15T16:44:56.566Z"
   },
   {
    "duration": 1832,
    "start_time": "2022-03-15T16:45:33.518Z"
   },
   {
    "duration": 104,
    "start_time": "2022-03-15T16:45:35.353Z"
   },
   {
    "duration": 82,
    "start_time": "2022-03-15T16:45:35.461Z"
   },
   {
    "duration": 125,
    "start_time": "2022-03-15T16:45:35.546Z"
   },
   {
    "duration": 34,
    "start_time": "2022-03-15T16:45:35.674Z"
   },
   {
    "duration": 10,
    "start_time": "2022-03-15T16:45:35.711Z"
   },
   {
    "duration": 22,
    "start_time": "2022-03-15T16:45:35.745Z"
   },
   {
    "duration": 422,
    "start_time": "2022-03-15T16:45:35.771Z"
   },
   {
    "duration": 20,
    "start_time": "2022-03-15T16:45:53.355Z"
   },
   {
    "duration": 42,
    "start_time": "2022-03-15T17:05:36.813Z"
   },
   {
    "duration": 361,
    "start_time": "2022-03-15T17:06:17.780Z"
   },
   {
    "duration": 13,
    "start_time": "2022-03-15T17:07:48.482Z"
   },
   {
    "duration": 11,
    "start_time": "2022-03-15T17:08:01.027Z"
   },
   {
    "duration": 7259,
    "start_time": "2022-03-15T17:11:36.142Z"
   },
   {
    "duration": 26,
    "start_time": "2022-03-15T17:14:53.259Z"
   },
   {
    "duration": 322,
    "start_time": "2022-03-15T17:15:33.393Z"
   },
   {
    "duration": 290,
    "start_time": "2022-03-15T17:15:48.518Z"
   },
   {
    "duration": 314,
    "start_time": "2022-03-15T17:17:10.149Z"
   },
   {
    "duration": 32,
    "start_time": "2022-03-15T17:18:38.923Z"
   },
   {
    "duration": 726,
    "start_time": "2022-03-15T17:29:08.119Z"
   },
   {
    "duration": 741,
    "start_time": "2022-03-15T17:31:59.226Z"
   },
   {
    "duration": 917,
    "start_time": "2022-03-15T17:32:37.787Z"
   },
   {
    "duration": 822,
    "start_time": "2022-03-15T17:35:40.915Z"
   },
   {
    "duration": 87,
    "start_time": "2022-03-15T17:35:57.437Z"
   },
   {
    "duration": 73,
    "start_time": "2022-03-15T17:35:59.621Z"
   },
   {
    "duration": 104,
    "start_time": "2022-03-15T17:36:01.841Z"
   },
   {
    "duration": 26,
    "start_time": "2022-03-15T17:36:06.005Z"
   },
   {
    "duration": 30,
    "start_time": "2022-03-15T17:36:08.693Z"
   },
   {
    "duration": 1587,
    "start_time": "2022-03-15T23:01:53.441Z"
   },
   {
    "duration": 96,
    "start_time": "2022-03-15T23:01:55.030Z"
   },
   {
    "duration": 75,
    "start_time": "2022-03-15T23:01:55.129Z"
   },
   {
    "duration": 143,
    "start_time": "2022-03-15T23:01:55.207Z"
   },
   {
    "duration": 26,
    "start_time": "2022-03-15T23:01:55.352Z"
   },
   {
    "duration": 29,
    "start_time": "2022-03-15T23:01:55.380Z"
   },
   {
    "duration": 41,
    "start_time": "2022-03-15T23:01:55.412Z"
   },
   {
    "duration": 549,
    "start_time": "2022-03-15T23:01:55.456Z"
   },
   {
    "duration": 462,
    "start_time": "2022-03-15T23:06:22.669Z"
   },
   {
    "duration": 1307,
    "start_time": "2022-03-16T11:37:04.647Z"
   },
   {
    "duration": 78,
    "start_time": "2022-03-16T11:37:05.956Z"
   },
   {
    "duration": 58,
    "start_time": "2022-03-16T11:37:06.037Z"
   },
   {
    "duration": 118,
    "start_time": "2022-03-16T11:37:06.097Z"
   },
   {
    "duration": 28,
    "start_time": "2022-03-16T11:37:06.217Z"
   },
   {
    "duration": 31,
    "start_time": "2022-03-16T11:37:06.248Z"
   },
   {
    "duration": 11,
    "start_time": "2022-03-16T11:37:06.281Z"
   },
   {
    "duration": 526,
    "start_time": "2022-03-16T11:37:06.295Z"
   },
   {
    "duration": 161,
    "start_time": "2022-03-16T11:44:00.702Z"
   },
   {
    "duration": 128,
    "start_time": "2022-03-16T11:46:28.385Z"
   },
   {
    "duration": 128,
    "start_time": "2022-03-16T11:50:12.150Z"
   },
   {
    "duration": 123,
    "start_time": "2022-03-16T11:55:27.219Z"
   },
   {
    "duration": -3314,
    "start_time": "2022-03-16T12:35:38.126Z"
   },
   {
    "duration": 142,
    "start_time": "2022-03-16T12:37:27.064Z"
   },
   {
    "duration": 133,
    "start_time": "2022-03-16T12:38:53.178Z"
   },
   {
    "duration": 130,
    "start_time": "2022-03-16T12:39:48.796Z"
   },
   {
    "duration": 19,
    "start_time": "2022-03-16T12:45:15.049Z"
   },
   {
    "duration": 19,
    "start_time": "2022-03-16T12:46:08.000Z"
   },
   {
    "duration": 20,
    "start_time": "2022-03-16T12:46:41.916Z"
   },
   {
    "duration": 21,
    "start_time": "2022-03-16T12:55:43.640Z"
   },
   {
    "duration": 27,
    "start_time": "2022-03-16T12:55:51.199Z"
   },
   {
    "duration": 4,
    "start_time": "2022-03-16T13:02:07.264Z"
   },
   {
    "duration": 6,
    "start_time": "2022-03-16T13:02:22.283Z"
   },
   {
    "duration": 5,
    "start_time": "2022-03-16T13:02:30.376Z"
   },
   {
    "duration": 408,
    "start_time": "2022-03-16T15:14:47.255Z"
   },
   {
    "duration": 657,
    "start_time": "2022-03-16T15:15:26.423Z"
   },
   {
    "duration": 431,
    "start_time": "2022-03-16T15:16:01.024Z"
   },
   {
    "duration": 430,
    "start_time": "2022-03-16T15:18:08.501Z"
   },
   {
    "duration": 422,
    "start_time": "2022-03-16T15:18:20.654Z"
   },
   {
    "duration": 434,
    "start_time": "2022-03-16T15:18:28.463Z"
   },
   {
    "duration": 420,
    "start_time": "2022-03-16T15:19:16.516Z"
   },
   {
    "duration": 456,
    "start_time": "2022-03-16T15:19:55.715Z"
   },
   {
    "duration": 407,
    "start_time": "2022-03-16T15:20:25.718Z"
   },
   {
    "duration": 398,
    "start_time": "2022-03-16T15:23:19.248Z"
   },
   {
    "duration": 7,
    "start_time": "2022-03-16T15:32:30.623Z"
   },
   {
    "duration": 7,
    "start_time": "2022-03-16T15:32:48.589Z"
   },
   {
    "duration": 4,
    "start_time": "2022-03-16T15:34:39.464Z"
   },
   {
    "duration": 12,
    "start_time": "2022-03-16T15:35:21.640Z"
   },
   {
    "duration": 16,
    "start_time": "2022-03-16T15:36:04.636Z"
   },
   {
    "duration": 17,
    "start_time": "2022-03-16T15:38:31.896Z"
   },
   {
    "duration": 16,
    "start_time": "2022-03-16T15:38:44.674Z"
   },
   {
    "duration": 429,
    "start_time": "2022-03-16T15:39:12.919Z"
   },
   {
    "duration": 17,
    "start_time": "2022-03-16T15:50:08.012Z"
   },
   {
    "duration": 17,
    "start_time": "2022-03-16T15:59:19.918Z"
   },
   {
    "duration": 17,
    "start_time": "2022-03-16T15:59:29.336Z"
   },
   {
    "duration": 246,
    "start_time": "2022-03-16T16:30:20.230Z"
   },
   {
    "duration": 16,
    "start_time": "2022-03-16T16:30:29.300Z"
   },
   {
    "duration": 19,
    "start_time": "2022-03-16T16:30:36.158Z"
   },
   {
    "duration": 7,
    "start_time": "2022-03-16T16:31:10.062Z"
   },
   {
    "duration": 5,
    "start_time": "2022-03-16T16:33:22.030Z"
   },
   {
    "duration": 69,
    "start_time": "2022-03-16T16:34:47.103Z"
   },
   {
    "duration": 6,
    "start_time": "2022-03-16T16:35:07.026Z"
   },
   {
    "duration": 9,
    "start_time": "2022-03-16T16:36:06.001Z"
   },
   {
    "duration": 8,
    "start_time": "2022-03-16T16:39:08.124Z"
   },
   {
    "duration": 20,
    "start_time": "2022-03-16T16:47:55.431Z"
   },
   {
    "duration": 28,
    "start_time": "2022-03-16T16:48:39.935Z"
   },
   {
    "duration": 244,
    "start_time": "2022-03-16T16:49:54.876Z"
   },
   {
    "duration": -73,
    "start_time": "2022-03-16T16:51:46.219Z"
   },
   {
    "duration": 191,
    "start_time": "2022-03-16T16:52:24.058Z"
   },
   {
    "duration": 233,
    "start_time": "2022-03-16T16:52:36.567Z"
   },
   {
    "duration": 256,
    "start_time": "2022-03-16T16:52:59.502Z"
   },
   {
    "duration": 379,
    "start_time": "2022-03-16T16:53:25.975Z"
   },
   {
    "duration": 382,
    "start_time": "2022-03-16T16:53:35.964Z"
   },
   {
    "duration": 473,
    "start_time": "2022-03-16T16:53:52.531Z"
   },
   {
    "duration": 494,
    "start_time": "2022-03-16T16:54:49.022Z"
   },
   {
    "duration": 515,
    "start_time": "2022-03-16T17:00:45.928Z"
   },
   {
    "duration": 494,
    "start_time": "2022-03-16T17:01:06.265Z"
   },
   {
    "duration": 1097,
    "start_time": "2022-03-16T17:01:35.649Z"
   },
   {
    "duration": 622,
    "start_time": "2022-03-16T17:02:20.579Z"
   },
   {
    "duration": 407,
    "start_time": "2022-03-16T17:02:43.598Z"
   },
   {
    "duration": 774,
    "start_time": "2022-03-16T17:04:38.922Z"
   },
   {
    "duration": 5138,
    "start_time": "2022-03-16T17:05:35.803Z"
   },
   {
    "duration": 627,
    "start_time": "2022-03-16T17:06:08.002Z"
   },
   {
    "duration": 1305,
    "start_time": "2022-03-17T12:02:16.322Z"
   },
   {
    "duration": 71,
    "start_time": "2022-03-17T12:02:17.629Z"
   },
   {
    "duration": 54,
    "start_time": "2022-03-17T12:02:17.702Z"
   },
   {
    "duration": 88,
    "start_time": "2022-03-17T12:02:17.758Z"
   },
   {
    "duration": 16,
    "start_time": "2022-03-17T12:02:17.848Z"
   },
   {
    "duration": 27,
    "start_time": "2022-03-17T12:02:17.866Z"
   },
   {
    "duration": 8,
    "start_time": "2022-03-17T12:02:17.894Z"
   },
   {
    "duration": 84,
    "start_time": "2022-03-17T12:02:17.904Z"
   },
   {
    "duration": 2,
    "start_time": "2022-03-17T12:02:17.990Z"
   },
   {
    "duration": 20,
    "start_time": "2022-03-17T12:02:17.994Z"
   },
   {
    "duration": 19,
    "start_time": "2022-03-17T12:02:18.016Z"
   },
   {
    "duration": 23,
    "start_time": "2022-03-17T12:02:18.037Z"
   },
   {
    "duration": 306,
    "start_time": "2022-03-17T12:02:18.061Z"
   },
   {
    "duration": 261,
    "start_time": "2022-03-17T12:02:18.368Z"
   },
   {
    "duration": 224,
    "start_time": "2022-03-17T12:02:18.632Z"
   },
   {
    "duration": 230,
    "start_time": "2022-03-17T12:02:18.857Z"
   },
   {
    "duration": 7,
    "start_time": "2022-03-17T12:02:19.089Z"
   },
   {
    "duration": 7,
    "start_time": "2022-03-17T12:02:19.097Z"
   },
   {
    "duration": 85,
    "start_time": "2022-03-17T12:02:19.105Z"
   },
   {
    "duration": 754,
    "start_time": "2022-03-17T12:02:45.857Z"
   },
   {
    "duration": 27,
    "start_time": "2022-03-17T12:02:50.961Z"
   },
   {
    "duration": 5,
    "start_time": "2022-03-17T12:03:14.017Z"
   },
   {
    "duration": 5,
    "start_time": "2022-03-17T12:03:40.754Z"
   },
   {
    "duration": 5,
    "start_time": "2022-03-17T12:03:50.989Z"
   },
   {
    "duration": 4,
    "start_time": "2022-03-17T12:05:02.909Z"
   },
   {
    "duration": 11,
    "start_time": "2022-03-17T12:14:55.957Z"
   },
   {
    "duration": 29,
    "start_time": "2022-03-17T12:16:48.158Z"
   },
   {
    "duration": 26,
    "start_time": "2022-03-17T12:18:43.615Z"
   },
   {
    "duration": 27,
    "start_time": "2022-03-17T12:20:14.249Z"
   },
   {
    "duration": 26,
    "start_time": "2022-03-17T12:22:13.619Z"
   },
   {
    "duration": 15,
    "start_time": "2022-03-17T12:22:32.445Z"
   },
   {
    "duration": 1636,
    "start_time": "2022-03-17T12:23:42.056Z"
   },
   {
    "duration": 1438,
    "start_time": "2022-03-17T12:23:51.581Z"
   },
   {
    "duration": 81,
    "start_time": "2022-03-17T12:23:53.022Z"
   },
   {
    "duration": 63,
    "start_time": "2022-03-17T12:23:53.105Z"
   },
   {
    "duration": 97,
    "start_time": "2022-03-17T12:23:53.170Z"
   },
   {
    "duration": 12,
    "start_time": "2022-03-17T12:23:53.268Z"
   },
   {
    "duration": 28,
    "start_time": "2022-03-17T12:23:53.281Z"
   },
   {
    "duration": 32,
    "start_time": "2022-03-17T12:23:53.311Z"
   },
   {
    "duration": 62,
    "start_time": "2022-03-17T12:23:53.345Z"
   },
   {
    "duration": 2,
    "start_time": "2022-03-17T12:23:53.409Z"
   },
   {
    "duration": 41,
    "start_time": "2022-03-17T12:23:53.413Z"
   },
   {
    "duration": 5,
    "start_time": "2022-03-17T12:23:53.456Z"
   },
   {
    "duration": 29,
    "start_time": "2022-03-17T12:23:53.463Z"
   },
   {
    "duration": 340,
    "start_time": "2022-03-17T12:23:53.493Z"
   },
   {
    "duration": 237,
    "start_time": "2022-03-17T12:23:53.835Z"
   },
   {
    "duration": 237,
    "start_time": "2022-03-17T12:23:54.074Z"
   },
   {
    "duration": 245,
    "start_time": "2022-03-17T12:23:54.313Z"
   },
   {
    "duration": 7,
    "start_time": "2022-03-17T12:23:54.560Z"
   },
   {
    "duration": 5,
    "start_time": "2022-03-17T12:23:54.568Z"
   },
   {
    "duration": 7,
    "start_time": "2022-03-17T12:23:54.574Z"
   },
   {
    "duration": 22,
    "start_time": "2022-03-17T12:23:54.582Z"
   },
   {
    "duration": 16,
    "start_time": "2022-03-17T12:24:29.094Z"
   },
   {
    "duration": 19,
    "start_time": "2022-03-17T12:25:17.846Z"
   },
   {
    "duration": 5,
    "start_time": "2022-03-17T12:26:15.239Z"
   },
   {
    "duration": 8,
    "start_time": "2022-03-17T12:27:22.979Z"
   },
   {
    "duration": 9,
    "start_time": "2022-03-17T12:27:38.318Z"
   },
   {
    "duration": 9,
    "start_time": "2022-03-17T12:28:52.384Z"
   },
   {
    "duration": 29,
    "start_time": "2022-03-17T12:31:50.739Z"
   },
   {
    "duration": 10,
    "start_time": "2022-03-17T12:41:57.930Z"
   },
   {
    "duration": 10,
    "start_time": "2022-03-17T12:42:11.015Z"
   },
   {
    "duration": 94,
    "start_time": "2022-03-17T13:12:29.314Z"
   },
   {
    "duration": 91,
    "start_time": "2022-03-17T13:12:41.676Z"
   },
   {
    "duration": 49,
    "start_time": "2022-03-17T13:12:50.016Z"
   },
   {
    "duration": 236,
    "start_time": "2022-03-17T13:15:48.954Z"
   },
   {
    "duration": 109,
    "start_time": "2022-03-17T13:16:38.260Z"
   },
   {
    "duration": 205,
    "start_time": "2022-03-17T13:20:59.094Z"
   },
   {
    "duration": 21,
    "start_time": "2022-03-17T16:06:09.972Z"
   },
   {
    "duration": 1446,
    "start_time": "2022-03-17T16:09:41.545Z"
   },
   {
    "duration": 219,
    "start_time": "2022-03-17T16:09:42.992Z"
   },
   {
    "duration": 78,
    "start_time": "2022-03-17T16:09:43.213Z"
   },
   {
    "duration": 53,
    "start_time": "2022-03-17T16:09:43.293Z"
   },
   {
    "duration": 88,
    "start_time": "2022-03-17T16:09:43.347Z"
   },
   {
    "duration": 12,
    "start_time": "2022-03-17T16:09:43.436Z"
   },
   {
    "duration": 16,
    "start_time": "2022-03-17T16:09:43.449Z"
   },
   {
    "duration": 7,
    "start_time": "2022-03-17T16:09:43.467Z"
   },
   {
    "duration": 90,
    "start_time": "2022-03-17T16:09:43.476Z"
   },
   {
    "duration": 3,
    "start_time": "2022-03-17T16:09:43.568Z"
   },
   {
    "duration": 14,
    "start_time": "2022-03-17T16:09:43.572Z"
   },
   {
    "duration": 5,
    "start_time": "2022-03-17T16:09:43.587Z"
   },
   {
    "duration": 42,
    "start_time": "2022-03-17T16:09:43.594Z"
   },
   {
    "duration": 298,
    "start_time": "2022-03-17T16:09:43.637Z"
   },
   {
    "duration": 235,
    "start_time": "2022-03-17T16:09:43.936Z"
   },
   {
    "duration": 218,
    "start_time": "2022-03-17T16:09:44.172Z"
   },
   {
    "duration": 217,
    "start_time": "2022-03-17T16:09:44.391Z"
   },
   {
    "duration": 6,
    "start_time": "2022-03-17T16:09:44.610Z"
   },
   {
    "duration": 16,
    "start_time": "2022-03-17T16:09:44.617Z"
   },
   {
    "duration": 13,
    "start_time": "2022-03-17T16:09:44.634Z"
   },
   {
    "duration": 12,
    "start_time": "2022-03-17T16:09:44.648Z"
   },
   {
    "duration": 5,
    "start_time": "2022-03-17T16:09:44.662Z"
   },
   {
    "duration": 68,
    "start_time": "2022-03-17T16:16:30.554Z"
   },
   {
    "duration": 66,
    "start_time": "2022-03-17T16:16:39.739Z"
   },
   {
    "duration": 61,
    "start_time": "2022-03-17T16:18:48.583Z"
   },
   {
    "duration": 7,
    "start_time": "2022-03-17T16:22:05.672Z"
   },
   {
    "duration": 97,
    "start_time": "2022-03-17T16:27:14.103Z"
   },
   {
    "duration": 83,
    "start_time": "2022-03-17T16:27:38.805Z"
   },
   {
    "duration": 88,
    "start_time": "2022-03-17T16:27:51.900Z"
   },
   {
    "duration": 279,
    "start_time": "2022-03-17T16:38:56.728Z"
   },
   {
    "duration": 342,
    "start_time": "2022-03-17T16:39:55.182Z"
   },
   {
    "duration": 269,
    "start_time": "2022-03-17T16:41:10.672Z"
   },
   {
    "duration": 266,
    "start_time": "2022-03-17T16:44:21.251Z"
   },
   {
    "duration": 283,
    "start_time": "2022-03-17T16:44:33.831Z"
   },
   {
    "duration": 296,
    "start_time": "2022-03-17T16:44:42.961Z"
   },
   {
    "duration": 397,
    "start_time": "2022-03-17T16:44:52.772Z"
   },
   {
    "duration": 293,
    "start_time": "2022-03-17T16:45:08.931Z"
   },
   {
    "duration": 293,
    "start_time": "2022-03-17T16:45:37.123Z"
   },
   {
    "duration": 340,
    "start_time": "2022-03-17T16:45:49.543Z"
   },
   {
    "duration": 424,
    "start_time": "2022-03-17T16:46:03.133Z"
   },
   {
    "duration": 407,
    "start_time": "2022-03-17T16:46:36.644Z"
   },
   {
    "duration": 286,
    "start_time": "2022-03-17T16:47:02.152Z"
   },
   {
    "duration": 298,
    "start_time": "2022-03-17T16:47:35.627Z"
   },
   {
    "duration": 352,
    "start_time": "2022-03-17T16:47:43.223Z"
   },
   {
    "duration": 306,
    "start_time": "2022-03-17T16:48:00.853Z"
   },
   {
    "duration": 434,
    "start_time": "2022-03-17T16:48:16.095Z"
   },
   {
    "duration": 338,
    "start_time": "2022-03-17T16:49:34.627Z"
   },
   {
    "duration": 342,
    "start_time": "2022-03-17T16:51:10.532Z"
   },
   {
    "duration": 430,
    "start_time": "2022-03-17T16:51:29.136Z"
   },
   {
    "duration": 83,
    "start_time": "2022-03-17T17:15:35.166Z"
   },
   {
    "duration": 196,
    "start_time": "2022-03-17T17:16:29.040Z"
   },
   {
    "duration": 18,
    "start_time": "2022-03-17T17:18:35.739Z"
   },
   {
    "duration": 425,
    "start_time": "2022-03-17T17:19:41.479Z"
   },
   {
    "duration": 693,
    "start_time": "2022-03-17T17:21:15.511Z"
   },
   {
    "duration": 500,
    "start_time": "2022-03-17T17:21:56.423Z"
   },
   {
    "duration": 466,
    "start_time": "2022-03-17T17:22:26.334Z"
   },
   {
    "duration": 1328,
    "start_time": "2022-03-17T17:23:17.704Z"
   },
   {
    "duration": 229,
    "start_time": "2022-03-17T17:23:19.034Z"
   },
   {
    "duration": 79,
    "start_time": "2022-03-17T17:23:19.265Z"
   },
   {
    "duration": 49,
    "start_time": "2022-03-17T17:23:19.346Z"
   },
   {
    "duration": 91,
    "start_time": "2022-03-17T17:23:19.397Z"
   },
   {
    "duration": 11,
    "start_time": "2022-03-17T17:23:19.490Z"
   },
   {
    "duration": 34,
    "start_time": "2022-03-17T17:23:19.502Z"
   },
   {
    "duration": 7,
    "start_time": "2022-03-17T17:23:19.538Z"
   },
   {
    "duration": 63,
    "start_time": "2022-03-17T17:23:19.546Z"
   },
   {
    "duration": 26,
    "start_time": "2022-03-17T17:23:19.611Z"
   },
   {
    "duration": 107,
    "start_time": "2022-03-17T17:23:19.639Z"
   },
   {
    "duration": 580,
    "start_time": "2022-03-17T17:23:19.747Z"
   },
   {
    "duration": 429,
    "start_time": "2022-03-17T17:23:20.329Z"
   },
   {
    "duration": 299,
    "start_time": "2022-03-17T17:23:20.760Z"
   },
   {
    "duration": 357,
    "start_time": "2022-03-17T17:23:21.061Z"
   },
   {
    "duration": 15,
    "start_time": "2022-03-17T17:23:21.420Z"
   },
   {
    "duration": 2,
    "start_time": "2022-03-17T17:23:21.437Z"
   },
   {
    "duration": 10,
    "start_time": "2022-03-17T17:23:21.440Z"
   },
   {
    "duration": 10,
    "start_time": "2022-03-17T17:23:21.451Z"
   },
   {
    "duration": 6,
    "start_time": "2022-03-17T17:23:21.462Z"
   },
   {
    "duration": 17,
    "start_time": "2022-03-17T17:34:43.523Z"
   },
   {
    "duration": 17,
    "start_time": "2022-03-17T17:34:54.694Z"
   },
   {
    "duration": 17,
    "start_time": "2022-03-17T17:35:18.077Z"
   },
   {
    "duration": 17,
    "start_time": "2022-03-17T17:35:31.302Z"
   },
   {
    "duration": 891,
    "start_time": "2022-03-17T17:35:48.678Z"
   },
   {
    "duration": 11,
    "start_time": "2022-03-17T17:36:01.418Z"
   },
   {
    "duration": 10,
    "start_time": "2022-03-17T17:36:35.092Z"
   },
   {
    "duration": 14,
    "start_time": "2022-03-17T17:37:08.903Z"
   },
   {
    "duration": 28,
    "start_time": "2022-03-17T17:39:52.335Z"
   },
   {
    "duration": 1250,
    "start_time": "2022-03-17T17:45:48.588Z"
   },
   {
    "duration": 237,
    "start_time": "2022-03-17T17:45:49.839Z"
   },
   {
    "duration": 82,
    "start_time": "2022-03-17T17:45:50.078Z"
   },
   {
    "duration": 49,
    "start_time": "2022-03-17T17:45:50.162Z"
   },
   {
    "duration": 92,
    "start_time": "2022-03-17T17:45:50.212Z"
   },
   {
    "duration": 11,
    "start_time": "2022-03-17T17:45:50.306Z"
   },
   {
    "duration": 32,
    "start_time": "2022-03-17T17:45:50.319Z"
   },
   {
    "duration": 8,
    "start_time": "2022-03-17T17:45:50.352Z"
   },
   {
    "duration": 90,
    "start_time": "2022-03-17T17:45:50.361Z"
   },
   {
    "duration": 9,
    "start_time": "2022-03-17T17:45:50.453Z"
   },
   {
    "duration": 95,
    "start_time": "2022-03-17T17:45:50.463Z"
   },
   {
    "duration": 591,
    "start_time": "2022-03-17T17:45:50.559Z"
   },
   {
    "duration": 431,
    "start_time": "2022-03-17T17:45:51.152Z"
   },
   {
    "duration": 296,
    "start_time": "2022-03-17T17:45:51.584Z"
   },
   {
    "duration": 348,
    "start_time": "2022-03-17T17:45:51.881Z"
   },
   {
    "duration": 6,
    "start_time": "2022-03-17T17:45:52.232Z"
   },
   {
    "duration": 3,
    "start_time": "2022-03-17T17:45:52.240Z"
   },
   {
    "duration": 7,
    "start_time": "2022-03-17T17:45:52.244Z"
   },
   {
    "duration": 8,
    "start_time": "2022-03-17T17:45:52.253Z"
   },
   {
    "duration": 8,
    "start_time": "2022-03-17T17:45:52.263Z"
   },
   {
    "duration": 1809,
    "start_time": "2022-03-28T17:02:20.086Z"
   },
   {
    "duration": 380,
    "start_time": "2022-03-28T17:02:21.898Z"
   },
   {
    "duration": 120,
    "start_time": "2022-03-28T17:02:22.280Z"
   },
   {
    "duration": 78,
    "start_time": "2022-03-28T17:02:22.402Z"
   },
   {
    "duration": 112,
    "start_time": "2022-03-28T17:02:22.483Z"
   },
   {
    "duration": 18,
    "start_time": "2022-03-28T17:02:22.597Z"
   },
   {
    "duration": 49,
    "start_time": "2022-03-28T17:02:22.618Z"
   },
   {
    "duration": 14,
    "start_time": "2022-03-28T17:02:22.670Z"
   },
   {
    "duration": 131,
    "start_time": "2022-03-28T17:02:22.687Z"
   },
   {
    "duration": 23,
    "start_time": "2022-03-28T17:02:22.820Z"
   },
   {
    "duration": 158,
    "start_time": "2022-03-28T17:02:22.845Z"
   },
   {
    "duration": 2260,
    "start_time": "2022-03-28T17:02:23.005Z"
   },
   {
    "duration": 1492,
    "start_time": "2022-03-28T17:02:25.268Z"
   },
   {
    "duration": 949,
    "start_time": "2022-03-28T17:02:26.763Z"
   },
   {
    "duration": 1340,
    "start_time": "2022-03-28T17:02:27.743Z"
   },
   {
    "duration": 63,
    "start_time": "2022-03-28T17:02:29.085Z"
   },
   {
    "duration": 9,
    "start_time": "2022-03-28T17:02:29.150Z"
   },
   {
    "duration": 15,
    "start_time": "2022-03-28T17:02:29.162Z"
   },
   {
    "duration": 63,
    "start_time": "2022-03-28T17:02:29.180Z"
   },
   {
    "duration": 6,
    "start_time": "2022-03-28T17:05:15.604Z"
   },
   {
    "duration": 9,
    "start_time": "2022-03-28T17:05:21.134Z"
   },
   {
    "duration": 11,
    "start_time": "2022-03-28T17:05:39.253Z"
   },
   {
    "duration": 12,
    "start_time": "2022-03-28T17:07:09.483Z"
   },
   {
    "duration": 1745,
    "start_time": "2022-03-30T10:13:32.229Z"
   },
   {
    "duration": 413,
    "start_time": "2022-03-30T10:13:33.977Z"
   },
   {
    "duration": 121,
    "start_time": "2022-03-30T10:13:34.393Z"
   },
   {
    "duration": 75,
    "start_time": "2022-03-30T10:13:34.517Z"
   },
   {
    "duration": 102,
    "start_time": "2022-03-30T10:13:34.595Z"
   },
   {
    "duration": 17,
    "start_time": "2022-03-30T10:13:34.700Z"
   },
   {
    "duration": 48,
    "start_time": "2022-03-30T10:13:34.719Z"
   },
   {
    "duration": 5,
    "start_time": "2022-03-30T10:13:34.770Z"
   },
   {
    "duration": 8,
    "start_time": "2022-03-30T10:13:34.777Z"
   },
   {
    "duration": 10,
    "start_time": "2022-03-30T10:13:34.789Z"
   },
   {
    "duration": 141,
    "start_time": "2022-03-30T10:13:34.802Z"
   },
   {
    "duration": 12,
    "start_time": "2022-03-30T10:13:34.946Z"
   },
   {
    "duration": 11,
    "start_time": "2022-03-30T10:13:34.960Z"
   },
   {
    "duration": 181,
    "start_time": "2022-03-30T10:13:34.973Z"
   },
   {
    "duration": 1180,
    "start_time": "2022-03-30T10:13:35.156Z"
   },
   {
    "duration": 748,
    "start_time": "2022-03-30T10:13:36.343Z"
   },
   {
    "duration": 524,
    "start_time": "2022-03-30T10:13:37.093Z"
   },
   {
    "duration": 676,
    "start_time": "2022-03-30T10:13:37.620Z"
   },
   {
    "duration": 11,
    "start_time": "2022-03-30T10:13:38.299Z"
   },
   {
    "duration": 32,
    "start_time": "2022-03-30T10:13:38.312Z"
   },
   {
    "duration": 13,
    "start_time": "2022-03-30T10:13:38.346Z"
   },
   {
    "duration": 16,
    "start_time": "2022-03-30T10:13:38.362Z"
   },
   {
    "duration": 19,
    "start_time": "2022-03-30T10:14:04.624Z"
   },
   {
    "duration": 29,
    "start_time": "2022-03-30T10:14:24.211Z"
   },
   {
    "duration": 6,
    "start_time": "2022-03-30T10:14:29.902Z"
   },
   {
    "duration": 7,
    "start_time": "2022-03-30T10:14:34.477Z"
   },
   {
    "duration": 126,
    "start_time": "2022-03-30T10:29:44.643Z"
   },
   {
    "duration": 676,
    "start_time": "2022-03-30T10:45:18.023Z"
   },
   {
    "duration": 542,
    "start_time": "2022-03-30T10:45:47.103Z"
   },
   {
    "duration": 549,
    "start_time": "2022-03-30T10:47:51.004Z"
   },
   {
    "duration": 556,
    "start_time": "2022-03-30T10:48:12.247Z"
   },
   {
    "duration": 631,
    "start_time": "2022-03-30T10:48:28.935Z"
   },
   {
    "duration": 679,
    "start_time": "2022-03-30T10:50:58.306Z"
   },
   {
    "duration": 2134,
    "start_time": "2022-03-30T10:51:06.009Z"
   },
   {
    "duration": 328,
    "start_time": "2022-03-30T10:51:08.147Z"
   },
   {
    "duration": 125,
    "start_time": "2022-03-30T10:51:08.478Z"
   },
   {
    "duration": 75,
    "start_time": "2022-03-30T10:51:08.606Z"
   },
   {
    "duration": 101,
    "start_time": "2022-03-30T10:51:08.683Z"
   },
   {
    "duration": 19,
    "start_time": "2022-03-30T10:51:08.786Z"
   },
   {
    "duration": 48,
    "start_time": "2022-03-30T10:51:08.807Z"
   },
   {
    "duration": 5,
    "start_time": "2022-03-30T10:51:08.857Z"
   },
   {
    "duration": 8,
    "start_time": "2022-03-30T10:51:08.864Z"
   },
   {
    "duration": 11,
    "start_time": "2022-03-30T10:51:08.877Z"
   },
   {
    "duration": 160,
    "start_time": "2022-03-30T10:51:08.890Z"
   },
   {
    "duration": 11,
    "start_time": "2022-03-30T10:51:09.052Z"
   },
   {
    "duration": 14,
    "start_time": "2022-03-30T10:51:09.065Z"
   },
   {
    "duration": 186,
    "start_time": "2022-03-30T10:51:09.081Z"
   },
   {
    "duration": 567,
    "start_time": "2022-03-30T10:51:09.269Z"
   },
   {
    "duration": 795,
    "start_time": "2022-03-30T10:51:09.838Z"
   },
   {
    "duration": 540,
    "start_time": "2022-03-30T10:51:10.643Z"
   },
   {
    "duration": 718,
    "start_time": "2022-03-30T10:51:11.185Z"
   },
   {
    "duration": 9,
    "start_time": "2022-03-30T10:51:11.905Z"
   },
   {
    "duration": 29,
    "start_time": "2022-03-30T10:51:11.917Z"
   },
   {
    "duration": 29,
    "start_time": "2022-03-30T10:51:11.948Z"
   },
   {
    "duration": 10,
    "start_time": "2022-03-30T10:51:11.979Z"
   },
   {
    "duration": 533,
    "start_time": "2022-03-30T10:52:07.239Z"
   },
   {
    "duration": 767,
    "start_time": "2022-03-30T10:52:36.170Z"
   },
   {
    "duration": 760,
    "start_time": "2022-03-30T10:52:48.983Z"
   },
   {
    "duration": 523,
    "start_time": "2022-03-30T10:53:33.510Z"
   },
   {
    "duration": 615,
    "start_time": "2022-03-30T10:53:43.605Z"
   },
   {
    "duration": 609,
    "start_time": "2022-03-30T10:54:27.922Z"
   },
   {
    "duration": 9,
    "start_time": "2022-03-30T10:57:05.044Z"
   },
   {
    "duration": 10,
    "start_time": "2022-03-30T11:00:45.115Z"
   },
   {
    "duration": 50,
    "start_time": "2022-03-30T14:40:31.992Z"
   },
   {
    "duration": 1708,
    "start_time": "2022-03-30T14:40:41.764Z"
   },
   {
    "duration": 199,
    "start_time": "2022-03-30T14:40:43.474Z"
   },
   {
    "duration": 89,
    "start_time": "2022-03-30T14:40:43.675Z"
   },
   {
    "duration": 52,
    "start_time": "2022-03-30T14:40:43.766Z"
   },
   {
    "duration": 85,
    "start_time": "2022-03-30T14:40:43.820Z"
   },
   {
    "duration": 12,
    "start_time": "2022-03-30T14:40:43.907Z"
   },
   {
    "duration": 21,
    "start_time": "2022-03-30T14:40:43.920Z"
   },
   {
    "duration": 4,
    "start_time": "2022-03-30T14:40:43.942Z"
   },
   {
    "duration": 10,
    "start_time": "2022-03-30T14:40:43.948Z"
   },
   {
    "duration": 23,
    "start_time": "2022-03-30T14:40:43.960Z"
   },
   {
    "duration": 71,
    "start_time": "2022-03-30T14:40:43.984Z"
   },
   {
    "duration": 25,
    "start_time": "2022-03-30T14:40:44.057Z"
   },
   {
    "duration": 8,
    "start_time": "2022-03-30T14:40:44.083Z"
   },
   {
    "duration": 114,
    "start_time": "2022-03-30T14:40:44.092Z"
   },
   {
    "duration": 341,
    "start_time": "2022-03-30T14:40:44.208Z"
   },
   {
    "duration": 413,
    "start_time": "2022-03-30T14:40:44.550Z"
   },
   {
    "duration": 270,
    "start_time": "2022-03-30T14:40:44.965Z"
   },
   {
    "duration": 407,
    "start_time": "2022-03-30T14:40:45.236Z"
   },
   {
    "duration": 6,
    "start_time": "2022-03-30T14:40:45.645Z"
   },
   {
    "duration": 8,
    "start_time": "2022-03-30T14:40:45.652Z"
   },
   {
    "duration": 23,
    "start_time": "2022-03-30T14:40:45.662Z"
   },
   {
    "duration": 5,
    "start_time": "2022-03-30T14:40:45.686Z"
   },
   {
    "duration": 60,
    "start_time": "2022-03-30T14:42:23.024Z"
   },
   {
    "duration": 51,
    "start_time": "2022-03-30T14:44:15.888Z"
   },
   {
    "duration": 54,
    "start_time": "2022-03-30T14:45:03.049Z"
   },
   {
    "duration": 49,
    "start_time": "2022-03-30T14:45:08.641Z"
   },
   {
    "duration": 65,
    "start_time": "2022-03-30T14:45:13.903Z"
   },
   {
    "duration": 13,
    "start_time": "2022-03-30T14:46:37.615Z"
   },
   {
    "duration": 16,
    "start_time": "2022-03-30T14:46:39.555Z"
   },
   {
    "duration": 8,
    "start_time": "2022-03-30T14:47:52.505Z"
   },
   {
    "duration": 89,
    "start_time": "2022-03-30T14:47:54.377Z"
   },
   {
    "duration": 2784,
    "start_time": "2022-03-30T14:48:04.445Z"
   },
   {
    "duration": 75,
    "start_time": "2022-03-30T14:48:14.380Z"
   },
   {
    "duration": 8,
    "start_time": "2022-03-30T14:48:19.918Z"
   },
   {
    "duration": 8,
    "start_time": "2022-03-30T14:48:24.332Z"
   },
   {
    "duration": 77,
    "start_time": "2022-03-30T14:48:26.101Z"
   },
   {
    "duration": 271,
    "start_time": "2022-03-30T14:48:47.100Z"
   },
   {
    "duration": 7,
    "start_time": "2022-03-30T14:49:54.075Z"
   },
   {
    "duration": 6,
    "start_time": "2022-03-30T14:52:13.851Z"
   },
   {
    "duration": 6,
    "start_time": "2022-03-30T14:54:01.865Z"
   },
   {
    "duration": 3,
    "start_time": "2022-03-30T14:57:37.962Z"
   },
   {
    "duration": 9,
    "start_time": "2022-03-30T15:00:21.414Z"
   },
   {
    "duration": 4,
    "start_time": "2022-03-30T15:00:28.689Z"
   },
   {
    "duration": 3,
    "start_time": "2022-03-30T15:05:29.258Z"
   },
   {
    "duration": 4,
    "start_time": "2022-03-30T15:05:31.765Z"
   },
   {
    "duration": 4,
    "start_time": "2022-03-30T15:05:38.478Z"
   },
   {
    "duration": 565,
    "start_time": "2022-03-30T15:06:13.650Z"
   },
   {
    "duration": 3,
    "start_time": "2022-03-30T15:06:20.287Z"
   },
   {
    "duration": 5,
    "start_time": "2022-03-30T15:14:53.971Z"
   },
   {
    "duration": 29,
    "start_time": "2022-03-30T15:27:38.148Z"
   },
   {
    "duration": 9,
    "start_time": "2022-03-30T15:28:27.378Z"
   },
   {
    "duration": 3,
    "start_time": "2022-03-30T15:32:49.977Z"
   },
   {
    "duration": 10,
    "start_time": "2022-03-30T15:32:53.121Z"
   },
   {
    "duration": 4,
    "start_time": "2022-03-30T15:33:03.921Z"
   },
   {
    "duration": 10,
    "start_time": "2022-03-30T15:37:21.849Z"
   },
   {
    "duration": 10,
    "start_time": "2022-03-30T15:43:23.920Z"
   },
   {
    "duration": 17,
    "start_time": "2022-03-30T15:54:08.315Z"
   },
   {
    "duration": 1654,
    "start_time": "2022-03-30T15:54:29.005Z"
   },
   {
    "duration": 202,
    "start_time": "2022-03-30T15:54:30.661Z"
   },
   {
    "duration": 77,
    "start_time": "2022-03-30T15:54:30.865Z"
   },
   {
    "duration": 63,
    "start_time": "2022-03-30T15:54:30.944Z"
   },
   {
    "duration": 94,
    "start_time": "2022-03-30T15:54:31.009Z"
   },
   {
    "duration": 12,
    "start_time": "2022-03-30T15:54:31.104Z"
   },
   {
    "duration": 21,
    "start_time": "2022-03-30T15:54:31.117Z"
   },
   {
    "duration": 3,
    "start_time": "2022-03-30T15:54:31.140Z"
   },
   {
    "duration": 11,
    "start_time": "2022-03-30T15:54:31.144Z"
   },
   {
    "duration": 19,
    "start_time": "2022-03-30T15:54:31.157Z"
   },
   {
    "duration": 89,
    "start_time": "2022-03-30T15:54:31.181Z"
   },
   {
    "duration": 16,
    "start_time": "2022-03-30T15:54:31.271Z"
   },
   {
    "duration": 13,
    "start_time": "2022-03-30T15:54:31.288Z"
   },
   {
    "duration": 92,
    "start_time": "2022-03-30T15:54:31.303Z"
   },
   {
    "duration": 293,
    "start_time": "2022-03-30T15:54:31.397Z"
   },
   {
    "duration": 400,
    "start_time": "2022-03-30T15:54:31.692Z"
   },
   {
    "duration": 269,
    "start_time": "2022-03-30T15:54:32.093Z"
   },
   {
    "duration": 393,
    "start_time": "2022-03-30T15:54:32.364Z"
   },
   {
    "duration": 7,
    "start_time": "2022-03-30T15:54:32.758Z"
   },
   {
    "duration": 16,
    "start_time": "2022-03-30T15:54:32.766Z"
   },
   {
    "duration": 13,
    "start_time": "2022-03-30T15:54:32.783Z"
   },
   {
    "duration": 10,
    "start_time": "2022-03-30T15:54:32.797Z"
   },
   {
    "duration": 3,
    "start_time": "2022-03-30T15:54:32.808Z"
   },
   {
    "duration": 64,
    "start_time": "2022-03-30T15:55:13.982Z"
   },
   {
    "duration": 1445,
    "start_time": "2022-04-21T22:10:39.221Z"
   },
   {
    "duration": 197,
    "start_time": "2022-04-21T22:10:40.668Z"
   },
   {
    "duration": 74,
    "start_time": "2022-04-21T22:10:40.867Z"
   },
   {
    "duration": 47,
    "start_time": "2022-04-21T22:10:40.943Z"
   },
   {
    "duration": 82,
    "start_time": "2022-04-21T22:10:40.992Z"
   },
   {
    "duration": 13,
    "start_time": "2022-04-21T22:10:41.075Z"
   },
   {
    "duration": 20,
    "start_time": "2022-04-21T22:10:41.089Z"
   },
   {
    "duration": 13,
    "start_time": "2022-04-21T22:10:41.111Z"
   },
   {
    "duration": 4,
    "start_time": "2022-04-21T22:10:41.126Z"
   },
   {
    "duration": 9,
    "start_time": "2022-04-21T22:10:41.132Z"
   },
   {
    "duration": 91,
    "start_time": "2022-04-21T22:10:41.142Z"
   },
   {
    "duration": 7,
    "start_time": "2022-04-21T22:10:41.234Z"
   },
   {
    "duration": 10,
    "start_time": "2022-04-21T22:10:41.243Z"
   },
   {
    "duration": 95,
    "start_time": "2022-04-21T22:10:41.254Z"
   },
   {
    "duration": 295,
    "start_time": "2022-04-21T22:10:41.351Z"
   },
   {
    "duration": 398,
    "start_time": "2022-04-21T22:10:41.648Z"
   },
   {
    "duration": 271,
    "start_time": "2022-04-21T22:10:42.048Z"
   },
   {
    "duration": 394,
    "start_time": "2022-04-21T22:10:42.323Z"
   },
   {
    "duration": 8,
    "start_time": "2022-04-21T22:10:42.719Z"
   },
   {
    "duration": 5,
    "start_time": "2022-04-21T22:10:42.729Z"
   },
   {
    "duration": 15,
    "start_time": "2022-04-21T22:10:42.735Z"
   },
   {
    "duration": 9,
    "start_time": "2022-04-21T22:10:42.752Z"
   },
   {
    "duration": 4,
    "start_time": "2022-04-21T22:10:42.763Z"
   }
  ],
  "kernelspec": {
   "display_name": "Python 3 (ipykernel)",
   "language": "python",
   "name": "python3"
  },
  "language_info": {
   "codemirror_mode": {
    "name": "ipython",
    "version": 3
   },
   "file_extension": ".py",
   "mimetype": "text/x-python",
   "name": "python",
   "nbconvert_exporter": "python",
   "pygments_lexer": "ipython3",
   "version": "3.9.12"
  },
  "toc": {
   "base_numbering": 1,
   "nav_menu": {},
   "number_sections": true,
   "sideBar": true,
   "skip_h1_title": true,
   "title_cell": "Table of Contents",
   "title_sidebar": "Contents",
   "toc_cell": false,
   "toc_position": {
    "height": "calc(100% - 180px)",
    "left": "10px",
    "top": "150px",
    "width": "165px"
   },
   "toc_section_display": true,
   "toc_window_display": true
  }
 },
 "nbformat": 4,
 "nbformat_minor": 2
}
